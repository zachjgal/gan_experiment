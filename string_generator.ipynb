{
 "cells": [
  {
   "cell_type": "code",
   "execution_count": 5,
   "metadata": {
    "collapsed": true,
    "ExecuteTime": {
     "end_time": "2023-07-27T05:37:31.300083Z",
     "start_time": "2023-07-27T05:37:31.294859Z"
    }
   },
   "outputs": [],
   "source": [
    "import torch\n",
    "import numpy as np\n",
    "import matplotlib.pyplot as plt\n",
    "from load_data import get_trained_models\n",
    "from constants import nz"
   ]
  },
  {
   "cell_type": "code",
   "execution_count": 2,
   "outputs": [],
   "source": [
    "device = torch.device(\"cpu\")\n",
    "G, D = get_trained_models()"
   ],
   "metadata": {
    "collapsed": false,
    "ExecuteTime": {
     "end_time": "2023-07-27T05:37:03.451257Z",
     "start_time": "2023-07-27T05:37:03.432036Z"
    }
   }
  },
  {
   "cell_type": "code",
   "execution_count": 6,
   "outputs": [],
   "source": [
    "DIFFICULT_CHARACTERS = {\"m\", \"w\"}\n",
    "\n",
    "def generate_characters(s):\n",
    "    lines = s.split('\\n')\n",
    "    num_lines = len(lines)\n",
    "    words = [line.split(' ') for line in lines]\n",
    "    # max length of any line\n",
    "    max_chars = max(sum(len(word) for word in line_words) + len(line_words) - 1 for line_words in words)\n",
    "\n",
    "    plt.figure(figsize=(3*max_chars, 3*num_lines))\n",
    "\n",
    "    for line_idx, line_words in enumerate(words):\n",
    "        char = 0\n",
    "        for word_idx, word in enumerate(line_words):\n",
    "            for i, c in enumerate(word):\n",
    "                # translate character to label\n",
    "                label = ord(c) - 97\n",
    "                label = torch.tensor([label], dtype=torch.long, device=device)\n",
    "\n",
    "                G.eval()  # Set the generator in evaluation mode\n",
    "                D.eval()  # Set the discriminator in evaluation mode\n",
    "\n",
    "                with torch.no_grad():\n",
    "                    while True:\n",
    "                        # generate noise\n",
    "                        noise = torch.randn(1, nz, 1, 1, device=device)\n",
    "                        # generate image\n",
    "                        fake_image = G(noise, label)\n",
    "                        # check image with D, only take the letter if the generator is\n",
    "                        # sufficiently (still not very) certain the letter is real\n",
    "                        output = D(fake_image, label).view(-1)\n",
    "                        if output.item() > 0.15 or (c in DIFFICULT_CHARACTERS and output.item() > 0.0000):\n",
    "                            break\n",
    "\n",
    "                # Convert image data to numpy\n",
    "                fake_image = fake_image.squeeze().cpu().detach().numpy()\n",
    "\n",
    "                # display the image\n",
    "                plt.subplot(num_lines, max_chars, line_idx * max_chars + char + 1)\n",
    "                plt.imshow(fake_image, cmap='gray')\n",
    "                plt.axis('off')\n",
    "                char += 1\n",
    "\n",
    "            # add a black image for space\n",
    "            if word_idx != len(line_words) - 1:  # if not the last word, add a space\n",
    "                black_image = np.zeros((28, 28))\n",
    "                plt.subplot(num_lines, max_chars, line_idx * max_chars + char + 1)\n",
    "                plt.imshow(black_image, cmap='gray')\n",
    "                plt.axis('off')\n",
    "                char += 1\n",
    "\n",
    "        # pad with black images if the line isn't as long as the longest line\n",
    "        while char < max_chars:\n",
    "            black_image = np.zeros((28, 28))\n",
    "            plt.subplot(num_lines, max_chars, line_idx * max_chars + char + 1)\n",
    "            plt.imshow(black_image, cmap='gray')\n",
    "            plt.axis('off')\n",
    "            char += 1\n",
    "\n",
    "    plt.subplots_adjust(wspace=0, hspace=0)  # remove spacing between plots\n",
    "    plt.show()\n"
   ],
   "metadata": {
    "collapsed": false,
    "ExecuteTime": {
     "end_time": "2023-07-27T05:37:32.786809Z",
     "start_time": "2023-07-27T05:37:32.781944Z"
    }
   }
  },
  {
   "cell_type": "code",
   "execution_count": 9,
   "outputs": [
    {
     "data": {
      "text/plain": "<Figure size 1800x300 with 6 Axes>",
      "image/png": "[encoded data removed]"
     },
     "metadata": {},
     "output_type": "display_data"
    }
   ],
   "source": [
    "generate_characters(\"huzzah\")"
   ],
   "metadata": {
    "collapsed": false,
    "ExecuteTime": {
     "end_time": "2023-07-27T05:37:44.658426Z",
     "start_time": "2023-07-27T05:37:42.723084Z"
    }
   }
  },
  {
   "cell_type": "code",
   "execution_count": null,
   "outputs": [],
   "source": [],
   "metadata": {
    "collapsed": false
   }
  }
 ],
 "metadata": {
  "kernelspec": {
   "display_name": "Python 3",
   "language": "python",
   "name": "python3"
  },
  "language_info": {
   "codemirror_mode": {
    "name": "ipython",
    "version": 2
   },
   "file_extension": ".py",
   "mimetype": "text/x-python",
   "name": "python",
   "nbconvert_exporter": "python",
   "pygments_lexer": "ipython2",
   "version": "2.7.6"
  }
 },
 "nbformat": 4,
 "nbformat_minor": 0
}
